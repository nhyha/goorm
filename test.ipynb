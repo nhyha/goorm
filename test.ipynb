{
 "cells": [
  {
   "cell_type": "code",
   "execution_count": 26,
   "id": "2252faf6",
   "metadata": {},
   "outputs": [
    {
     "name": "stderr",
     "output_type": "stream",
     "text": [
      "[nltk_data] Downloading package punkt to /Users/ihoyeol/nltk_data...\n",
      "[nltk_data]   Package punkt is already up-to-date!\n",
      "[nltk_data] Downloading package stopwords to\n",
      "[nltk_data]     /Users/ihoyeol/nltk_data...\n",
      "[nltk_data]   Package stopwords is already up-to-date!\n"
     ]
    },
    {
     "data": {
      "text/plain": [
       "True"
      ]
     },
     "execution_count": 26,
     "metadata": {},
     "output_type": "execute_result"
    }
   ],
   "source": [
    "import re\n",
    "import nltk\n",
    "from nltk.corpus import stopwords\n",
    "from nltk.tokenize import word_tokenize, sent_tokenize\n",
    "from collections import Counter\n",
    "nltk.download('punkt')\n",
    "nltk.download('stopwords')"
   ]
  },
  {
   "cell_type": "code",
   "execution_count": 51,
   "id": "f5880784",
   "metadata": {},
   "outputs": [],
   "source": [
    "# 텍스트 정제 함수\n",
    "def clean_text(text):\n",
    "    text = text.lower()\n",
    "    text = re.sub(r\"[^a-zA-Z0-9\\s]\", \"\", text)\n",
    "    text = \" \".join(text.split())\n",
    "    return text\n",
    "\n",
    "# 문장 복잡성 분석 함수 (원본 텍스트 사용)\n",
    "def analyze_sentence_complexity(original_text):\n",
    "    sentences = sent_tokenize(original_text)\n",
    "    word_counts = [len(word_tokenize(sentence)) for sentence in sentences]\n",
    "    return sum(word_counts) / len(sentences) if sentences else 0\n",
    "\n",
    "def analyze_repetition_and_print_frequencies_sorted(original_text):\n",
    "    words = word_tokenize(original_text)\n",
    "    word_freq = Counter(words)\n",
    "\n",
    "    # 빈도수가 1보다 큰 단어만 필터링하고 빈도수에 따라 정렬\n",
    "    repeated_words_sorted = sorted(\n",
    "        ((word, freq) for word, freq in word_freq.items() if freq > 1), \n",
    "        key=lambda x: x[1], \n",
    "        reverse=True\n",
    "    )\n",
    "    \n",
    "    repetition_ratio = sum(freq for _, freq in repeated_words_sorted) / len(words) if words else 0\n",
    "\n",
    "    return repetition_ratio, repeated_words_sorted\n",
    "\n",
    "# 토큰화 및 불용어 제거 함수\n",
    "def tokenize_and_remove_stopwords(text):\n",
    "    stop_words = set(stopwords.words('english'))\n",
    "    word_tokens = word_tokenize(text)\n",
    "    filtered_text = [word for word in word_tokens if word not in stop_words]\n",
    "    return filtered_text"
   ]
  },
  {
   "cell_type": "code",
   "execution_count": 52,
   "id": "3039c621",
   "metadata": {},
   "outputs": [],
   "source": [
    "# 예제 텍스트\n",
    "example_text = \"Another insight to reduced car zones brings Paris' incident with smog. Paris' officials created a system that would in fact lower smog rates. On Monday, the motorists with evennumbered license plates numbers would be ordered to leave their cars at home, or they would suffer a fine. Same rule would occur on Tuesday, except motorists with oddnumbered license plates were targeted with fines. Congestion, or traffic, was reduced by 60% after five days of intense smog. Diesel fuel played a huge part in this pollution, having the fact that 67% of vehicles in France are of Diesel fuel. The impact of the clearing of smog, resided in banning the Tuesday rule of odd license plates.\"\n",
    "\n",
    "\n"
   ]
  },
  {
   "cell_type": "code",
   "execution_count": 55,
   "id": "cc4e86d2",
   "metadata": {},
   "outputs": [],
   "source": [
    "# 텍스트 정제 그리고 토큰화 반복, 단어 비율 및 빈도 분석\n",
    "cleaned_text = clean_text(example_text)\n",
    "sentence_complexity = analyze_sentence_complexity(example_text)\n",
    "repetition_ratio, repeated_words_sorted = analyze_repetition_and_print_frequencies_sorted(example_text)\n",
    "tokens = tokenize_and_remove_stopwords(cleaned_text)"
   ]
  },
  {
   "cell_type": "code",
   "execution_count": 61,
   "id": "0c8d4598",
   "metadata": {},
   "outputs": [
    {
     "name": "stdout",
     "output_type": "stream",
     "text": [
      "원본 텍스트: Another insight to reduced car zones brings Paris' incident with smog. Paris' officials created a system that would in fact lower smog rates. On Monday, the motorists with evennumbered license plates numbers would be ordered to leave their cars at home, or they would suffer a fine. Same rule would occur on Tuesday, except motorists with oddnumbered license plates were targeted with fines. Congestion, or traffic, was reduced by 60% after five days of intense smog. Diesel fuel played a huge part in this pollution, having the fact that 67% of vehicles in France are of Diesel fuel. The impact of the clearing of smog, resided in banning the Tuesday rule of odd license plates.\n",
      "\n",
      "토큰: ['another', 'insight', 'reduced', 'car', 'zones', 'brings', 'paris', 'incident', 'smog', 'paris', 'officials', 'created', 'system', 'would', 'fact', 'lower', 'smog', 'rates', 'monday', 'motorists', 'evennumbered', 'license', 'plates', 'numbers', 'would', 'ordered', 'leave', 'cars', 'home', 'would', 'suffer', 'fine', 'rule', 'would', 'occur', 'tuesday', 'except', 'motorists', 'oddnumbered', 'license', 'plates', 'targeted', 'fines', 'congestion', 'traffic', 'reduced', '60', 'five', 'days', 'intense', 'smog', 'diesel', 'fuel', 'played', 'huge', 'part', 'pollution', 'fact', '67', 'vehicles', 'france', 'diesel', 'fuel', 'impact', 'clearing', 'smog', 'resided', 'banning', 'tuesday', 'rule', 'odd', 'license', 'plates']\n",
      "\n",
      "문장 복잡성 (평균 단어 수/문장): 19.00\n",
      "반복 단어 비율 (%): 56.39%\n",
      "\n",
      "많이 반복된 단어 순서대로:\n",
      "단어 '.': 7번 반복\n",
      "단어 ',': 7번 반복\n",
      "단어 'of': 6번 반복\n",
      "단어 'with': 4번 반복\n",
      "단어 'smog': 4번 반복\n",
      "단어 'would': 4번 반복\n",
      "단어 'in': 4번 반복\n",
      "단어 'the': 4번 반복\n",
      "단어 'a': 3번 반복\n",
      "단어 'license': 3번 반복\n",
      "단어 'plates': 3번 반복\n",
      "단어 'to': 2번 반복\n",
      "단어 'reduced': 2번 반복\n",
      "단어 'Paris': 2번 반복\n",
      "단어 ''': 2번 반복\n",
      "단어 'that': 2번 반복\n",
      "단어 'fact': 2번 반복\n",
      "단어 'motorists': 2번 반복\n",
      "단어 'or': 2번 반복\n",
      "단어 'rule': 2번 반복\n",
      "단어 'Tuesday': 2번 반복\n",
      "단어 '%': 2번 반복\n",
      "단어 'Diesel': 2번 반복\n",
      "단어 'fuel': 2번 반복\n"
     ]
    }
   ],
   "source": [
    "# 결과 출력\n",
    "print(\"원본 텍스트:\", example_text)\n",
    "print(\"\\n토큰:\", tokens)\n",
    "print(f\"\\n문장 복잡성 (평균 단어 수/문장): {sentence_complexity:.2f}\")\n",
    "print(f\"반복 단어 비율 (%): {repetition_ratio * 100:.2f}%\")\n",
    "print(\"\\n많이 반복된 단어 순서대로:\")\n",
    "for word, freq in repeated_words_sorted:\n",
    "    print(f\"단어 '{word}': {freq}번 반복\")\n"
   ]
  },
  {
   "cell_type": "code",
   "execution_count": null,
   "id": "fc1c6335",
   "metadata": {},
   "outputs": [],
   "source": []
  }
 ],
 "metadata": {
  "kernelspec": {
   "display_name": "Python 3 (ipykernel)",
   "language": "python",
   "name": "python3"
  },
  "language_info": {
   "codemirror_mode": {
    "name": "ipython",
    "version": 3
   },
   "file_extension": ".py",
   "mimetype": "text/x-python",
   "name": "python",
   "nbconvert_exporter": "python",
   "pygments_lexer": "ipython3",
   "version": "3.11.5"
  }
 },
 "nbformat": 4,
 "nbformat_minor": 5
}
